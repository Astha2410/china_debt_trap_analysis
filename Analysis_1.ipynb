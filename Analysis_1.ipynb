{
 "cells": [
  {
   "cell_type": "code",
   "execution_count": 13,
   "metadata": {},
   "outputs": [],
   "source": [
    "import pandas as pd \n",
    "import numpy as np\n",
    "from sklearn.preprocessing import StandardScaler\n",
    "from sklearn.metrics import accuracy_score\n",
    "import matplotlib.pyplot as plt\n",
    "from scipy.stats import chi2_contingency"
   ]
  },
  {
   "cell_type": "code",
   "execution_count": 5,
   "metadata": {},
   "outputs": [],
   "source": [
    "# loading the china debt trap dataset to a pandas dataframe\n",
    "china_dept_trap_dataset  = pd.read_csv(\"D:\\github\\china_debt_trap_analysis\\china_dept_trap.csv\")"
   ]
  },
  {
   "cell_type": "code",
   "execution_count": 3,
   "metadata": {},
   "outputs": [
    {
     "data": {
      "text/html": [
       "<div>\n",
       "<style scoped>\n",
       "    .dataframe tbody tr th:only-of-type {\n",
       "        vertical-align: middle;\n",
       "    }\n",
       "\n",
       "    .dataframe tbody tr th {\n",
       "        vertical-align: top;\n",
       "    }\n",
       "\n",
       "    .dataframe thead th {\n",
       "        text-align: right;\n",
       "    }\n",
       "</style>\n",
       "<table border=\"1\" class=\"dataframe\">\n",
       "  <thead>\n",
       "    <tr style=\"text-align: right;\">\n",
       "      <th></th>\n",
       "      <th>Expand All | Collapse All</th>\n",
       "      <th>YEAR</th>\n",
       "      <th>AMOUNT</th>\n",
       "      <th>LENDER</th>\n",
       "      <th>BORROWER</th>\n",
       "      <th>SECTOR</th>\n",
       "      <th>SENSITIVE TERRITORY OVERLAP</th>\n",
       "      <th>Country</th>\n",
       "    </tr>\n",
       "  </thead>\n",
       "  <tbody>\n",
       "    <tr>\n",
       "      <th>0</th>\n",
       "      <td>“Lar Patriota\" Infrastructure (Phase 1)</td>\n",
       "      <td>2011</td>\n",
       "      <td>$50M</td>\n",
       "      <td>CDB</td>\n",
       "      <td>Government</td>\n",
       "      <td>Transport</td>\n",
       "      <td>None Known</td>\n",
       "      <td>Angola</td>\n",
       "    </tr>\n",
       "    <tr>\n",
       "      <th>1</th>\n",
       "      <td>10-Year Oil Supply Plan (10Mt/Year), \"Oil for ...</td>\n",
       "      <td>2009</td>\n",
       "      <td>$7.0B</td>\n",
       "      <td>CDB</td>\n",
       "      <td>Petrobras</td>\n",
       "      <td>Extraction, pipelines</td>\n",
       "      <td>None Known</td>\n",
       "      <td>Brazil</td>\n",
       "    </tr>\n",
       "    <tr>\n",
       "      <th>2</th>\n",
       "      <td>1000 housing project</td>\n",
       "      <td>2012</td>\n",
       "      <td>$47M</td>\n",
       "      <td>ExImBank</td>\n",
       "      <td>Government</td>\n",
       "      <td>Government</td>\n",
       "      <td>None Known</td>\n",
       "      <td>Suriname</td>\n",
       "    </tr>\n",
       "    <tr>\n",
       "      <th>3</th>\n",
       "      <td>115kV Transmission Line and Substation from Ph...</td>\n",
       "      <td>2009</td>\n",
       "      <td>$475M</td>\n",
       "      <td>ExImBank</td>\n",
       "      <td>Electricite Du Cambodge</td>\n",
       "      <td>Power</td>\n",
       "      <td>None Known</td>\n",
       "      <td>Cambodia</td>\n",
       "    </tr>\n",
       "    <tr>\n",
       "      <th>4</th>\n",
       "      <td>151 Multisector infrastructure projects</td>\n",
       "      <td>2016</td>\n",
       "      <td>$600M</td>\n",
       "      <td>CDB</td>\n",
       "      <td>Central Bank of Kenya</td>\n",
       "      <td>Mulit-sector/discretionary</td>\n",
       "      <td>None Known</td>\n",
       "      <td>Kenya</td>\n",
       "    </tr>\n",
       "  </tbody>\n",
       "</table>\n",
       "</div>"
      ],
      "text/plain": [
       "                           Expand All | Collapse All  YEAR AMOUNT    LENDER  \\\n",
       "0            “Lar Patriota\" Infrastructure (Phase 1)  2011   $50M       CDB   \n",
       "1  10-Year Oil Supply Plan (10Mt/Year), \"Oil for ...  2009  $7.0B       CDB   \n",
       "2                               1000 housing project  2012   $47M  ExImBank   \n",
       "3  115kV Transmission Line and Substation from Ph...  2009  $475M  ExImBank   \n",
       "4            151 Multisector infrastructure projects  2016  $600M       CDB   \n",
       "\n",
       "                  BORROWER                      SECTOR  \\\n",
       "0               Government                   Transport   \n",
       "1                Petrobras       Extraction, pipelines   \n",
       "2               Government                  Government   \n",
       "3  Electricite Du Cambodge                       Power   \n",
       "4    Central Bank of Kenya  Mulit-sector/discretionary   \n",
       "\n",
       "  SENSITIVE TERRITORY OVERLAP   Country  \n",
       "0                  None Known    Angola  \n",
       "1                  None Known    Brazil  \n",
       "2                  None Known  Suriname  \n",
       "3                  None Known  Cambodia  \n",
       "4                  None Known     Kenya  "
      ]
     },
     "execution_count": 3,
     "metadata": {},
     "output_type": "execute_result"
    }
   ],
   "source": [
    "china_dept_trap_dataset.head()"
   ]
  },
  {
   "attachments": {},
   "cell_type": "markdown",
   "metadata": {},
   "source": [
    "Getting number of rows and columns present in the dataset"
   ]
  },
  {
   "cell_type": "code",
   "execution_count": 4,
   "metadata": {},
   "outputs": [
    {
     "data": {
      "text/plain": [
       "(858, 8)"
      ]
     },
     "execution_count": 4,
     "metadata": {},
     "output_type": "execute_result"
    }
   ],
   "source": [
    "china_dept_trap_dataset.shape"
   ]
  },
  {
   "cell_type": "code",
   "execution_count": 10,
   "metadata": {},
   "outputs": [
    {
     "data": {
      "text/plain": [
       "Expand All | Collapse All      0\n",
       "YEAR                           0\n",
       "AMOUNT                         0\n",
       "LENDER                         0\n",
       "BORROWER                       1\n",
       "SECTOR                         0\n",
       "SENSITIVE TERRITORY OVERLAP    0\n",
       "Country                        0\n",
       "dtype: int64"
      ]
     },
     "execution_count": 10,
     "metadata": {},
     "output_type": "execute_result"
    }
   ],
   "source": [
    "china_dept_trap_dataset.isnull().sum()"
   ]
  },
  {
   "cell_type": "code",
   "execution_count": 6,
   "metadata": {},
   "outputs": [],
   "source": [
    "china_dept_trap_dataset.drop_duplicates(inplace=True)"
   ]
  },
  {
   "attachments": {},
   "cell_type": "markdown",
   "metadata": {},
   "source": [
    "Count the number of observations in each category of the 'SECTOR' variable"
   ]
  },
  {
   "cell_type": "code",
   "execution_count": 11,
   "metadata": {},
   "outputs": [
    {
     "name": "stdout",
     "output_type": "stream",
     "text": [
      "Transport                     316\n",
      "Power                         203\n",
      "Government                    138\n",
      "Telecom                        63\n",
      "Extraction, pipelines          38\n",
      "Mulit-sector/discretionary     31\n",
      "Other construction             29\n",
      "Agriculture, food              27\n",
      "Manufacturing                  12\n",
      "fTransport                      1\n",
      "Name: SECTOR, dtype: int64\n"
     ]
    }
   ],
   "source": [
    "sector_counts = china_dept_trap_dataset['SECTOR'].value_counts()\n",
    "print(sector_counts)"
   ]
  },
  {
   "cell_type": "code",
   "execution_count": 12,
   "metadata": {},
   "outputs": [
    {
     "data": {
      "image/png": "[encoded data removed]",
      "text/plain": [
       "<Figure size 640x480 with 1 Axes>"
      ]
     },
     "metadata": {},
     "output_type": "display_data"
    }
   ],
   "source": [
    "lender_counts = china_dept_trap_dataset['LENDER'].value_counts()\n",
    "lender_counts.plot(kind='bar')\n",
    "plt.xlabel('Lender')\n",
    "plt.ylabel('Frequency')\n",
    "plt.title('Frequency of lenders in the dataset')\n",
    "plt.show()"
   ]
  },
  {
   "attachments": {},
   "cell_type": "markdown",
   "metadata": {},
   "source": [
    "Create a contingency table of the 'LENDER' and 'BORROWER' variables"
   ]
  },
  {
   "cell_type": "code",
   "execution_count": 16,
   "metadata": {},
   "outputs": [],
   "source": [
    "ct = pd.crosstab(china_dept_trap_dataset['LENDER'], china_dept_trap_dataset['BORROWER'])"
   ]
  },
  {
   "cell_type": "code",
   "execution_count": 17,
   "metadata": {},
   "outputs": [
    {
     "name": "stdout",
     "output_type": "stream",
     "text": [
      "BORROWER            Africa Finance Corporation  African Export Import Bank  \\\n",
      "LENDER                                                                       \n",
      "BOC, CDB, ExImBank                           0                           0   \n",
      "CDB                                          0                           1   \n",
      "CDB, Citic                                   0                           0   \n",
      "CDB, ExImBank                                0                           0   \n",
      "CDB, ICBC                                    0                           0   \n",
      "CDB, others                                  0                           0   \n",
      "ExImBank                                     2                           1   \n",
      "\n",
      "BORROWER            African Export-Import Bank  Attarat Power Company (APCO)  \\\n",
      "LENDER                                                                         \n",
      "BOC, CDB, ExImBank                           0                             0   \n",
      "CDB                                          0                             0   \n",
      "CDB, Citic                                   0                             0   \n",
      "CDB, ExImBank                                0                             0   \n",
      "CDB, ICBC                                    0                             0   \n",
      "CDB, others                                  0                             0   \n",
      "ExImBank                                     1                             1   \n",
      "\n",
      "BORROWER            Azcuba  BICE  BNDES  \\\n",
      "LENDER                                    \n",
      "BOC, CDB, ExImBank       0     0      0   \n",
      "CDB                      0     2      0   \n",
      "CDB, Citic               0     0      0   \n",
      "CDB, ExImBank            0     0      0   \n",
      "CDB, ICBC                0     0      0   \n",
      "CDB, others              0     0      0   \n",
      "ExImBank                 1     0      1   \n",
      "\n",
      "BORROWER            Bangladesh Chemical Industries Corporation  \\\n",
      "LENDER                                                           \n",
      "BOC, CDB, ExImBank                                           0   \n",
      "CDB                                                          0   \n",
      "CDB, Citic                                                   0   \n",
      "CDB, ExImBank                                                0   \n",
      "CDB, ICBC                                                    0   \n",
      "CDB, others                                                  0   \n",
      "ExImBank                                                     1   \n",
      "\n",
      "BORROWER            Bangladesh Petroleum Corporation  \\\n",
      "LENDER                                                 \n",
      "BOC, CDB, ExImBank                                 0   \n",
      "CDB                                                0   \n",
      "CDB, Citic                                         0   \n",
      "CDB, ExImBank                                      0   \n",
      "CDB, ICBC                                          0   \n",
      "CDB, others                                        0   \n",
      "ExImBank                                           1   \n",
      "\n",
      "BORROWER            Bangladesh-China Power Company Limited  ...  Transneft  \\\n",
      "LENDER                                                      ...              \n",
      "BOC, CDB, ExImBank                                       0  ...          0   \n",
      "CDB                                                      0  ...          1   \n",
      "CDB, Citic                                               0  ...          0   \n",
      "CDB, ExImBank                                            0  ...          0   \n",
      "CDB, ICBC                                                0  ...          0   \n",
      "CDB, others                                              0  ...          0   \n",
      "ExImBank                                                 1  ...          0   \n",
      "\n",
      "BORROWER            Transnet  Tunisian National Railways Company  Turkmengaz  \\\n",
      "LENDER                                                                         \n",
      "BOC, CDB, ExImBank         0                                   0           0   \n",
      "CDB                        2                                   0           2   \n",
      "CDB, Citic                 0                                   0           0   \n",
      "CDB, ExImBank              0                                   0           0   \n",
      "CDB, ICBC                  0                                   0           0   \n",
      "CDB, others                0                                   0           0   \n",
      "ExImBank                   0                                   1           0   \n",
      "\n",
      "BORROWER            Uzbekneftegaz  Vietnam Electricity (EVN)  Vnesheconombank  \\\n",
      "LENDER                                                                          \n",
      "BOC, CDB, ExImBank              0                          0                0   \n",
      "CDB                             1                          1                2   \n",
      "CDB, Citic                      0                          0                0   \n",
      "CDB, ExImBank                   0                          0                0   \n",
      "CDB, ICBC                       0                          0                0   \n",
      "CDB, others                     0                          0                0   \n",
      "ExImBank                        0                          1                0   \n",
      "\n",
      "BORROWER            Zambia Cooperative Federation  \\\n",
      "LENDER                                              \n",
      "BOC, CDB, ExImBank                              0   \n",
      "CDB                                             1   \n",
      "CDB, Citic                                      0   \n",
      "CDB, ExImBank                                   0   \n",
      "CDB, ICBC                                       0   \n",
      "CDB, others                                     0   \n",
      "ExImBank                                        0   \n",
      "\n",
      "BORROWER            Zambia Electricity Supply Corporation Limited  \\\n",
      "LENDER                                                              \n",
      "BOC, CDB, ExImBank                                              0   \n",
      "CDB                                                             0   \n",
      "CDB, Citic                                                      0   \n",
      "CDB, ExImBank                                                   0   \n",
      "CDB, ICBC                                                       0   \n",
      "CDB, others                                                     0   \n",
      "ExImBank                                                        1   \n",
      "\n",
      "BORROWER            Zambia Electricity Supply Corporation Limited (ZESCO)  \n",
      "LENDER                                                                     \n",
      "BOC, CDB, ExImBank                                                  0      \n",
      "CDB                                                                 0      \n",
      "CDB, Citic                                                          0      \n",
      "CDB, ExImBank                                                       0      \n",
      "CDB, ICBC                                                           0      \n",
      "CDB, others                                                         0      \n",
      "ExImBank                                                            2      \n",
      "\n",
      "[7 rows x 120 columns]\n"
     ]
    }
   ],
   "source": [
    "print(ct)"
   ]
  },
  {
   "attachments": {},
   "cell_type": "markdown",
   "metadata": {},
   "source": [
    "Perform a chi-squared test of independence on the contingency table"
   ]
  },
  {
   "cell_type": "code",
   "execution_count": 18,
   "metadata": {},
   "outputs": [
    {
     "name": "stdout",
     "output_type": "stream",
     "text": [
      "Chi-squared statistic: 1446.8656860345016\n",
      "P-value: 4.717189073260366e-52\n"
     ]
    }
   ],
   "source": [
    "chi2, p, dof, expected = chi2_contingency(ct)\n",
    "print('Chi-squared statistic:', chi2)\n",
    "print('P-value:', p)"
   ]
  },
  {
   "attachments": {},
   "cell_type": "markdown",
   "metadata": {},
   "source": [
    "Create a contingency table of the 'AMOUNT' and 'SECTOR' variables"
   ]
  },
  {
   "cell_type": "code",
   "execution_count": 19,
   "metadata": {},
   "outputs": [],
   "source": [
    "ct1 = pd.crosstab(china_dept_trap_dataset['AMOUNT'], china_dept_trap_dataset['SECTOR'])"
   ]
  },
  {
   "cell_type": "code",
   "execution_count": 20,
   "metadata": {},
   "outputs": [
    {
     "name": "stdout",
     "output_type": "stream",
     "text": [
      "SECTOR  Agriculture, food  Extraction, pipelines  Government  Manufacturing  \\\n",
      "AMOUNT                                                                        \n",
      "$1.0B                   0                      0           0              0   \n",
      "$1.1B                   0                      0           0              2   \n",
      "$1.2B                   1                      1           1              1   \n",
      "$1.3B                   0                      1           0              1   \n",
      "$1.4B                   0                      1           0              0   \n",
      "...                   ...                    ...         ...            ...   \n",
      "$989M                   0                      0           0              0   \n",
      "$98M                    0                      0           0              0   \n",
      "$995M                   0                      0           0              0   \n",
      "$998M                   0                      0           0              0   \n",
      "$99M                    0                      0           0              0   \n",
      "\n",
      "SECTOR  Mulit-sector/discretionary  Other construction  Power  Telecom  \\\n",
      "AMOUNT                                                                   \n",
      "$1.0B                            0                   0      1        0   \n",
      "$1.1B                            0                   0      0        0   \n",
      "$1.2B                            0                   0      2        0   \n",
      "$1.3B                            0                   0      0        0   \n",
      "$1.4B                            0                   0      4        0   \n",
      "...                            ...                 ...    ...      ...   \n",
      "$989M                            0                   0      0        0   \n",
      "$98M                             0                   0      0        1   \n",
      "$995M                            0                   0      0        0   \n",
      "$998M                            0                   0      1        0   \n",
      "$99M                             0                   0      1        1   \n",
      "\n",
      "SECTOR  Transport  fTransport  \n",
      "AMOUNT                         \n",
      "$1.0B           0           0  \n",
      "$1.1B           1           0  \n",
      "$1.2B           2           0  \n",
      "$1.3B           3           0  \n",
      "$1.4B           0           0  \n",
      "...           ...         ...  \n",
      "$989M           1           0  \n",
      "$98M            1           0  \n",
      "$995M           1           0  \n",
      "$998M           0           0  \n",
      "$99M            0           0  \n",
      "\n",
      "[346 rows x 10 columns]\n"
     ]
    }
   ],
   "source": [
    "print(ct1)"
   ]
  },
  {
   "attachments": {},
   "cell_type": "markdown",
   "metadata": {},
   "source": [
    "Perform a chi-squared test of independence on the contingency table"
   ]
  },
  {
   "cell_type": "code",
   "execution_count": 22,
   "metadata": {},
   "outputs": [
    {
     "name": "stdout",
     "output_type": "stream",
     "text": [
      "Chi-squared statistic: 2892.6786642124257\n",
      "P-value: 0.9970183060515696\n"
     ]
    }
   ],
   "source": [
    "chi2, p, dof, expected = chi2_contingency(ct1)\n",
    "print('Chi-squared statistic:', chi2)\n",
    "print('P-value:', p)"
   ]
  },
  {
   "attachments": {},
   "cell_type": "markdown",
   "metadata": {},
   "source": [
    "Create a contingency table of the 'AMOUNT' and 'Country' variables"
   ]
  },
  {
   "cell_type": "code",
   "execution_count": 26,
   "metadata": {},
   "outputs": [],
   "source": [
    "ct2 = pd.crosstab(china_dept_trap_dataset['AMOUNT'], china_dept_trap_dataset['Country'])"
   ]
  },
  {
   "attachments": {},
   "cell_type": "markdown",
   "metadata": {},
   "source": [
    "Perform a chi-squared test of independence on the contingency table"
   ]
  },
  {
   "cell_type": "code",
   "execution_count": 27,
   "metadata": {},
   "outputs": [
    {
     "name": "stdout",
     "output_type": "stream",
     "text": [
      "Chi-squared statistic: 32662.10822342581\n",
      "P-value: 0.011685739087627371\n"
     ]
    }
   ],
   "source": [
    "chi2, p, dof, expected = chi2_contingency(ct2)\n",
    "print('Chi-squared statistic:', chi2)\n",
    "print('P-value:', p)"
   ]
  },
  {
   "cell_type": "code",
   "execution_count": null,
   "metadata": {},
   "outputs": [],
   "source": []
  }
 ],
 "metadata": {
  "kernelspec": {
   "display_name": "Python 3",
   "language": "python",
   "name": "python3"
  },
  "language_info": {
   "codemirror_mode": {
    "name": "ipython",
    "version": 3
   },
   "file_extension": ".py",
   "mimetype": "text/x-python",
   "name": "python",
   "nbconvert_exporter": "python",
   "pygments_lexer": "ipython3",
   "version": "3.10.2"
  },
  "orig_nbformat": 4
 },
 "nbformat": 4,
 "nbformat_minor": 2
}
